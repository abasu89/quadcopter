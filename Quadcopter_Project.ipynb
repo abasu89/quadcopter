{
 "cells": [
  {
   "cell_type": "markdown",
   "metadata": {},
   "source": [
    "# Project: Train a Quadcopter How to Fly\n",
    "\n",
    "Design an agent to fly a quadcopter, and then train it using a reinforcement learning algorithm of your choice! \n",
    "\n",
    "Try to apply the techniques you have learnt, but also feel free to come up with innovative ideas and test them."
   ]
  },
  {
   "cell_type": "markdown",
   "metadata": {},
   "source": [
    "## Instructions\n",
    "\n",
    "Take a look at the files in the directory to better understand the structure of the project. \n",
    "\n",
    "- `task.py`: Define your task (environment) in this file.\n",
    "- `agents/`: Folder containing reinforcement learning agents.\n",
    "    - `policy_search.py`: A sample agent has been provided here.\n",
    "    - `agent.py`: Develop your agent here.\n",
    "- `physics_sim.py`: This file contains the simulator for the quadcopter.  **DO NOT MODIFY THIS FILE**.\n",
    "\n",
    "For this project, you will define your own task in `task.py`.  Although we have provided a example task to get you started, you are encouraged to change it.  Later in this notebook, you will learn more about how to amend this file.\n",
    "\n",
    "You will also design a reinforcement learning agent in `agent.py` to complete your chosen task.  \n",
    "\n",
    "You are welcome to create any additional files to help you to organize your code.  For instance, you may find it useful to define a `model.py` file defining any needed neural network architectures.\n",
    "\n",
    "## Controlling the Quadcopter\n",
    "\n",
    "We provide a sample agent in the code cell below to show you how to use the sim to control the quadcopter.  This agent is even simpler than the sample agent that you'll examine (in `agents/policy_search.py`) later in this notebook!\n",
    "\n",
    "The agent controls the quadcopter by setting the revolutions per second on each of its four rotors.  The provided agent in the `Basic_Agent` class below always selects a random action for each of the four rotors.  These four speeds are returned by the `act` method as a list of four floating-point numbers.  \n",
    "\n",
    "For this project, the agent that you will implement in `agents/agent.py` will have a far more intelligent method for selecting actions!"
   ]
  },
  {
   "cell_type": "code",
   "execution_count": null,
   "metadata": {},
   "outputs": [],
   "source": [
    "import random\n",
    "\n",
    "class Basic_Agent(): # define Basic_Agent class\n",
    "    def __init__(self, task): # takes in 'task' as input to create instance\n",
    "        self.task = task\n",
    "    \n",
    "    def act(self): # method that generates a new thrust randomly \n",
    "        new_thrust = random.gauss(450., 25.)\n",
    "        return [new_thrust + random.gauss(0., 1.) for x in range(4)] # for each motor (total=4)"
   ]
  },
  {
   "cell_type": "markdown",
   "metadata": {},
   "source": [
    "Run the code cell below to have the agent select actions to control the quadcopter.  \n",
    "\n",
    "Feel free to change the provided values of `runtime`, `init_pose`, `init_velocities`, and `init_angle_velocities` below to change the starting conditions of the quadcopter.\n",
    "\n",
    "The `labels` list below annotates statistics that are saved while running the simulation.  All of this information is saved in a text file `data.txt` and stored in the dictionary `results`.  "
   ]
  },
  {
   "cell_type": "code",
   "execution_count": null,
   "metadata": {},
   "outputs": [],
   "source": [
    "%load_ext autoreload\n",
    "%autoreload 2\n",
    "\n",
    "import csv\n",
    "import numpy as np\n",
    "from task import Task\n",
    "\n",
    "# Modify the values below to give the quadcopter a different starting position. # define starting position\n",
    "runtime = 5.                                     # time limit of the episode\n",
    "init_pose = np.array([0.5, 0.5, 10.5, 0.5, 0.5, 0.5])  # initial pose\n",
    "init_velocities = np.array([1., 1., 1.])         # initial velocities\n",
    "init_angle_velocities = np.array([1., 1., 1.])   # initial angle velocities\n",
    "file_output = 'data.txt'                         # file name for saved results\n",
    "\n",
    "# Setup\n",
    "task = Task(init_pose, init_velocities, init_angle_velocities, runtime) # create instance of task\n",
    "agent = Basic_Agent(task)\n",
    "done = False\n",
    "labels = ['time', 'x', 'y', 'z', 'phi', 'theta', 'psi', 'x_velocity',\n",
    "          'y_velocity', 'z_velocity', 'phi_velocity', 'theta_velocity',\n",
    "          'psi_velocity', 'rotor_speed1', 'rotor_speed2', 'rotor_speed3', 'rotor_speed4']\n",
    "results = {x : [] for x in labels} # initialize each state in labels to []\n",
    "\n",
    "# Run the simulation, and save the results.\n",
    "with open(file_output, 'w') as csvfile:\n",
    "    writer = csv.writer(csvfile)\n",
    "    writer.writerow(labels)\n",
    "    while True:\n",
    "        rotor_speeds = agent.act()\n",
    "        _, _, done = task.step(rotor_speeds)\n",
    "        to_write = [task.sim.time] + list(task.sim.pose) + list(task.sim.v) + list(task.sim.angular_v) + list(rotor_speeds)\n",
    "        for ii in range(len(labels)):\n",
    "            results[labels[ii]].append(to_write[ii])\n",
    "        writer.writerow(to_write)\n",
    "        if done:\n",
    "            break"
   ]
  },
  {
   "cell_type": "markdown",
   "metadata": {},
   "source": [
    "Run the code cell below to visualize how the position of the quadcopter evolved during the simulation."
   ]
  },
  {
   "cell_type": "code",
   "execution_count": null,
   "metadata": {},
   "outputs": [],
   "source": [
    "import matplotlib.pyplot as plt\n",
    "%matplotlib inline\n",
    "\n",
    "plt.plot(results['time'], results['x'], label='x')\n",
    "plt.plot(results['time'], results['y'], label='y')\n",
    "plt.plot(results['time'], results['z'], label='z')\n",
    "plt.legend()\n",
    "_ = plt.ylim()"
   ]
  },
  {
   "cell_type": "markdown",
   "metadata": {},
   "source": [
    "The next code cell visualizes the velocity of the quadcopter."
   ]
  },
  {
   "cell_type": "code",
   "execution_count": null,
   "metadata": {},
   "outputs": [],
   "source": [
    "plt.plot(results['time'], results['x_velocity'], label='x_hat')\n",
    "plt.plot(results['time'], results['y_velocity'], label='y_hat')\n",
    "plt.plot(results['time'], results['z_velocity'], label='z_hat')\n",
    "plt.legend()\n",
    "_ = plt.ylim()"
   ]
  },
  {
   "cell_type": "markdown",
   "metadata": {},
   "source": [
    "Next, you can plot the Euler angles (the rotation of the quadcopter over the $x$-, $y$-, and $z$-axes),"
   ]
  },
  {
   "cell_type": "code",
   "execution_count": null,
   "metadata": {},
   "outputs": [],
   "source": [
    "plt.plot(results['time'], results['phi'], label='phi')\n",
    "plt.plot(results['time'], results['theta'], label='theta')\n",
    "plt.plot(results['time'], results['psi'], label='psi')\n",
    "plt.legend()\n",
    "_ = plt.ylim()"
   ]
  },
  {
   "cell_type": "markdown",
   "metadata": {},
   "source": [
    "before plotting the velocities (in radians per second) corresponding to each of the Euler angles."
   ]
  },
  {
   "cell_type": "code",
   "execution_count": null,
   "metadata": {},
   "outputs": [],
   "source": [
    "plt.plot(results['time'], results['phi_velocity'], label='phi_velocity')\n",
    "plt.plot(results['time'], results['theta_velocity'], label='theta_velocity')\n",
    "plt.plot(results['time'], results['psi_velocity'], label='psi_velocity')\n",
    "plt.legend()\n",
    "_ = plt.ylim()"
   ]
  },
  {
   "cell_type": "markdown",
   "metadata": {},
   "source": [
    "Finally, you can use the code cell below to print the agent's choice of actions.  "
   ]
  },
  {
   "cell_type": "code",
   "execution_count": null,
   "metadata": {},
   "outputs": [],
   "source": [
    "plt.plot(results['time'], results['rotor_speed1'], label='Rotor 1 revolutions / second')\n",
    "plt.plot(results['time'], results['rotor_speed2'], label='Rotor 2 revolutions / second')\n",
    "plt.plot(results['time'], results['rotor_speed3'], label='Rotor 3 revolutions / second')\n",
    "plt.plot(results['time'], results['rotor_speed4'], label='Rotor 4 revolutions / second')\n",
    "plt.legend()\n",
    "_ = plt.ylim()"
   ]
  },
  {
   "cell_type": "markdown",
   "metadata": {},
   "source": [
    "When specifying a task, you will derive the environment state from the simulator.  Run the code cell below to print the values of the following variables at the end of the simulation:\n",
    "- `task.sim.pose` (the position of the quadcopter in ($x,y,z$) dimensions and the Euler angles),\n",
    "- `task.sim.v` (the velocity of the quadcopter in ($x,y,z$) dimensions), and\n",
    "- `task.sim.angular_v` (radians/second for each of the three Euler angles)."
   ]
  },
  {
   "cell_type": "code",
   "execution_count": null,
   "metadata": {},
   "outputs": [],
   "source": [
    "# the pose, velocity, and angular velocity of the quadcopter at the end of the episode\n",
    "print(task.sim.pose)\n",
    "print(task.sim.v)\n",
    "print(task.sim.angular_v)"
   ]
  },
  {
   "cell_type": "markdown",
   "metadata": {},
   "source": [
    "In the sample task in `task.py`, we use the 6-dimensional pose of the quadcopter to construct the state of the environment at each timestep.  However, when amending the task for your purposes, you are welcome to expand the size of the state vector by including the velocity information.  You can use any combination of the pose, velocity, and angular velocity - feel free to tinker here, and construct the state to suit your task.\n",
    "\n",
    "## The Task\n",
    "\n",
    "A sample task has been provided for you in `task.py`.  Open this file in a new window now. \n",
    "\n",
    "The `__init__()` method is used to initialize several variables that are needed to specify the task.  \n",
    "- The simulator is initialized as an instance of the `PhysicsSim` class (from `physics_sim.py`).  \n",
    "- Inspired by the methodology in the original DDPG paper, we make use of action repeats.  For each timestep of the agent, we step the simulation `action_repeats` timesteps.  If you are not familiar with action repeats, please read the **Results** section in [the DDPG paper](https://arxiv.org/abs/1509.02971).\n",
    "- We set the number of elements in the state vector.  For the sample task, we only work with the 6-dimensional pose information.  To set the size of the state (`state_size`), we must take action repeats into account.  \n",
    "- The environment will always have a 4-dimensional action space, with one entry for each rotor (`action_size=4`). You can set the minimum (`action_low`) and maximum (`action_high`) values of each entry here.\n",
    "- The sample task in this provided file is for the agent to reach a target position.  We specify that target position as a variable.\n",
    "\n",
    "The `reset()` method resets the simulator.  The agent should call this method every time the episode ends.  You can see an example of this in the code cell below.\n",
    "\n",
    "The `step()` method is perhaps the most important.  It accepts the agent's choice of action `rotor_speeds`, which is used to prepare the next state to pass on to the agent.  Then, the reward is computed from `get_reward()`.  The episode is considered done if the time limit has been exceeded, or the quadcopter has travelled outside of the bounds of the simulation.\n",
    "\n",
    "In the next section, you will learn how to test the performance of an agent on this task."
   ]
  },
  {
   "cell_type": "markdown",
   "metadata": {},
   "source": [
    "## The Agent\n",
    "\n",
    "The sample agent given in `agents/policy_search.py` uses a very simplistic linear policy to directly compute the action vector as a dot product of the state vector and a matrix of weights. Then, it randomly perturbs the parameters by adding some Gaussian noise, to produce a different policy. Based on the average reward obtained in each episode (`score`), it keeps track of the best set of parameters found so far, how the score is changing, and accordingly tweaks a scaling factor to widen or tighten the noise.\n",
    "\n",
    "Run the code cell below to see how the agent performs on the sample task."
   ]
  },
  {
   "cell_type": "code",
   "execution_count": null,
   "metadata": {},
   "outputs": [],
   "source": [
    "'''\n",
    "import sys\n",
    "import pandas as pd\n",
    "from agents.policy_search import PolicySearch_Agent\n",
    "from task import Task\n",
    "\n",
    "\n",
    "num_episodes = 1000 #set number of episodes\n",
    "target_pos = np.array([0., 0., 10.]) # set target position\n",
    "task = Task(target_pos=target_pos) # create instance of Task\n",
    "agent = PolicySearch_Agent(task)  # create instance of PolicySearch_Agent\n",
    "\n",
    "for i_episode in range(1, num_episodes+1):\n",
    "    state = agent.reset_episode() # start a new episode\n",
    "    while True:\n",
    "        action = agent.act(state) # pick action based on state\n",
    "        next_state, reward, done = task.step(action) # take chosen action (record next state and reward)\n",
    "        agent.step(reward, done) # agent saves experience and reward\n",
    "        state = next_state # set next_state to current state\n",
    "        if done: # if end of episode\n",
    "            print(\"\\rEpisode = {:4d}, score = {:7.3f} (best = {:7.3f}), noise_scale = {}\".format(\n",
    "                i_episode, agent.score, agent.best_score, agent.noise_scale), end=\"\")  # [debug]\n",
    "            break\n",
    "    sys.stdout.flush()\n",
    "    '''"
   ]
  },
  {
   "cell_type": "markdown",
   "metadata": {},
   "source": [
    "This agent should perform very poorly on this task.  And that's where you come in!"
   ]
  },
  {
   "cell_type": "markdown",
   "metadata": {
    "collapsed": true
   },
   "source": [
    "## Define the Task, Design the Agent, and Train Your Agent!\n",
    "\n",
    "Amend `task.py` to specify a task of your choosing.  If you're unsure what kind of task to specify, you may like to teach your quadcopter to takeoff, hover in place, land softly, or reach a target pose.  \n",
    "\n",
    "After specifying your task, use the sample agent in `agents/policy_search.py` as a template to define your own agent in `agents/agent.py`.  You can borrow whatever you need from the sample agent, including ideas on how you might modularize your code (using helper methods like `act()`, `learn()`, `reset_episode()`, etc.).\n",
    "\n",
    "Note that it is **highly unlikely** that the first agent and task that you specify will learn well.  You will likely have to tweak various hyperparameters and the reward function for your task until you arrive at reasonably good behavior.\n",
    "\n",
    "As you develop your agent, it's important to keep an eye on how it's performing. Use the code above as inspiration to build in a mechanism to log/save the total rewards obtained in each episode to file.  If the episode rewards are gradually increasing, this is an indication that your agent is learning."
   ]
  },
  {
   "cell_type": "code",
   "execution_count": 1,
   "metadata": {
    "scrolled": true
   },
   "outputs": [
    {
     "name": "stderr",
     "output_type": "stream",
     "text": [
      "Using TensorFlow backend.\n"
     ]
    },
    {
     "name": "stdout",
     "output_type": "stream",
     "text": [
      "Episode =    1, episode reward =   9.743, average reward =   0.304\n",
      "Episode =    2, episode reward =  11.808, average reward =   0.369\n",
      "Episode =    3, episode reward =   7.023, average reward =   0.213\n",
      "Episode =    4, episode reward =   5.418, average reward =   0.175\n",
      "Episode =    5, episode reward =  -5.425, average reward =  -0.194\n",
      "Episode =    6, episode reward =  -0.322, average reward =  -0.012\n",
      "Episode =    7, episode reward =  -1.439, average reward =  -0.051\n",
      "Episode =    8, episode reward =   3.395, average reward =   0.126\n",
      "Episode =    9, episode reward =  17.886, average reward =   0.662\n",
      "Episode =   10, episode reward =  17.902, average reward =   0.663\n",
      "Episode =   11, episode reward =   9.401, average reward =   0.348\n",
      "Episode =   12, episode reward =   8.092, average reward =   0.311\n",
      "Episode =   13, episode reward =   6.368, average reward =   0.245\n",
      "Episode =   14, episode reward =   8.210, average reward =   0.316\n",
      "Episode =   15, episode reward =  11.060, average reward =   0.425\n",
      "Episode =   16, episode reward =   5.153, average reward =   0.198\n",
      "Episode =   17, episode reward =   4.487, average reward =   0.160\n",
      "Episode =   18, episode reward =  15.502, average reward =   0.620\n",
      "Episode =   19, episode reward =  -3.651, average reward =  -0.135\n",
      "Episode =   20, episode reward =  10.965, average reward =   0.439\n",
      "Episode =   21, episode reward =  -4.617, average reward =  -0.136\n",
      "Episode =   22, episode reward =   1.588, average reward =   0.057\n",
      "Episode =   23, episode reward =   1.772, average reward =   0.061\n",
      "Episode =   24, episode reward = -26.408, average reward =  -0.825\n",
      "Episode =   25, episode reward =  16.803, average reward =   0.494\n",
      "Episode =   26, episode reward =  10.392, average reward =   0.371\n",
      "Episode =   27, episode reward =   7.508, average reward =   0.289\n",
      "Episode =   28, episode reward =   2.247, average reward =   0.090\n",
      "Episode =   29, episode reward =  -0.509, average reward =  -0.019\n",
      "Episode =   30, episode reward =  -3.623, average reward =  -0.125\n",
      "Episode =   31, episode reward =   2.761, average reward =   0.106\n",
      "Episode =   32, episode reward =   1.460, average reward =   0.052\n",
      "Episode =   33, episode reward =   2.052, average reward =   0.076\n",
      "Episode =   34, episode reward =  -4.019, average reward =  -0.149\n",
      "Episode =   35, episode reward =   3.456, average reward =   0.133\n",
      "Episode =   36, episode reward =   0.448, average reward =   0.017\n",
      "Episode =   37, episode reward =   9.791, average reward =   0.350\n",
      "Episode =   38, episode reward =  15.096, average reward =   0.559\n",
      "Episode =   39, episode reward =  -7.742, average reward =  -0.276\n",
      "Episode =   40, episode reward = -10.113, average reward =  -0.375\n",
      "Episode =   41, episode reward = -11.689, average reward =  -0.433\n",
      "Episode =   42, episode reward =  -9.606, average reward =  -0.356\n",
      "Episode =   43, episode reward =  -3.200, average reward =  -0.119\n",
      "Episode =   44, episode reward =   6.024, average reward =   0.232\n",
      "Episode =   45, episode reward =  -7.400, average reward =  -0.274\n",
      "Episode =   46, episode reward =  -7.019, average reward =  -0.260\n",
      "Episode =   47, episode reward =   6.222, average reward =   0.239\n",
      "Episode =   48, episode reward =  11.735, average reward =   0.451\n",
      "Episode =   49, episode reward =  14.925, average reward =   0.574\n",
      "Episode =   50, episode reward =  16.592, average reward =   0.638\n",
      "Episode =   51, episode reward =  17.099, average reward =   0.658\n",
      "Episode =   52, episode reward =  17.312, average reward =   0.666\n",
      "Episode =   53, episode reward =  17.508, average reward =   0.673\n",
      "Episode =   54, episode reward =  17.709, average reward =   0.681\n",
      "Episode =   55, episode reward =  17.892, average reward =   0.688\n",
      "Episode =   56, episode reward =  17.973, average reward =   0.691\n",
      "Episode =   57, episode reward =  18.073, average reward =   0.695\n",
      "Episode =   58, episode reward =  18.188, average reward =   0.700\n",
      "Episode =   59, episode reward =  18.267, average reward =   0.703\n",
      "Episode =   60, episode reward =  18.296, average reward =   0.704\n",
      "Episode =   61, episode reward =  18.216, average reward =   0.701\n",
      "Episode =   62, episode reward =  18.122, average reward =   0.697\n",
      "Episode =   63, episode reward =  17.983, average reward =   0.692\n",
      "Episode =   64, episode reward =  17.893, average reward =   0.688\n",
      "Episode =   65, episode reward =  17.731, average reward =   0.682\n",
      "Episode =   66, episode reward =  17.848, average reward =   0.686\n",
      "Episode =   67, episode reward =  17.901, average reward =   0.688\n",
      "Episode =   68, episode reward =  17.496, average reward =   0.673\n",
      "Episode =   69, episode reward =  16.638, average reward =   0.640\n",
      "Episode =   70, episode reward =  15.062, average reward =   0.579\n",
      "Episode =   71, episode reward =  13.992, average reward =   0.538\n",
      "Episode =   72, episode reward =  12.813, average reward =   0.493\n",
      "Episode =   73, episode reward =  13.786, average reward =   0.530\n",
      "Episode =   74, episode reward =  13.664, average reward =   0.526\n",
      "Episode =   75, episode reward =  14.004, average reward =   0.539\n",
      "Episode =   76, episode reward =  12.239, average reward =   0.471\n",
      "Episode =   77, episode reward =  12.363, average reward =   0.476\n",
      "Episode =   78, episode reward =  13.607, average reward =   0.523\n",
      "Episode =   79, episode reward =  13.686, average reward =   0.526\n",
      "Episode =   80, episode reward =  16.349, average reward =   0.629\n",
      "Episode =   81, episode reward =  16.174, average reward =   0.622\n",
      "Episode =   82, episode reward =  14.810, average reward =   0.570\n",
      "Episode =   83, episode reward =  13.905, average reward =   0.535\n",
      "Episode =   84, episode reward =  12.345, average reward =   0.475\n",
      "Episode =   85, episode reward =  12.084, average reward =   0.465\n",
      "Episode =   86, episode reward =  15.476, average reward =   0.595\n",
      "Episode =   87, episode reward =  -0.765, average reward =  -0.028\n",
      "Episode =   88, episode reward =   5.077, average reward =   0.188\n",
      "Episode =   89, episode reward = -15.670, average reward =  -0.603\n",
      "Episode =   90, episode reward =  -7.386, average reward =  -0.264\n",
      "Episode =   91, episode reward = -10.061, average reward =  -0.373\n",
      "Episode =   92, episode reward = -22.009, average reward =  -0.815\n",
      "Episode =   93, episode reward =  11.507, average reward =   0.349\n",
      "Episode =   94, episode reward =  -8.202, average reward =  -0.304\n",
      "Episode =   95, episode reward =  -7.605, average reward =  -0.292\n",
      "Episode =   96, episode reward = -12.874, average reward =  -0.515\n",
      "Episode =   97, episode reward = -10.458, average reward =  -0.402\n",
      "Episode =   98, episode reward = -10.819, average reward =  -0.401\n",
      "Episode =   99, episode reward = -11.424, average reward =  -0.439\n",
      "Episode =  100, episode reward = -11.551, average reward =  -0.444\n",
      "Episode =  101, episode reward =  -8.996, average reward =  -0.346\n",
      "Episode =  102, episode reward =  -9.074, average reward =  -0.349\n",
      "Episode =  103, episode reward =  -7.083, average reward =  -0.262\n",
      "Episode =  104, episode reward =  -0.243, average reward =  -0.009\n",
      "Episode =  105, episode reward =  17.568, average reward =   0.627\n",
      "Episode =  106, episode reward =   1.351, average reward =   0.047\n",
      "Episode =  107, episode reward =   2.565, average reward =   0.095\n",
      "Episode =  108, episode reward =  13.862, average reward =   0.533\n",
      "Episode =  109, episode reward =   8.554, average reward =   0.305\n",
      "Episode =  110, episode reward =  -2.428, average reward =  -0.093\n",
      "Episode =  111, episode reward =  -8.843, average reward =  -0.340\n",
      "Episode =  112, episode reward =  -2.141, average reward =  -0.076\n",
      "Episode =  113, episode reward =  -3.946, average reward =  -0.146\n",
      "Episode =  114, episode reward =  -5.223, average reward =  -0.187\n",
      "Episode =  115, episode reward =  -4.229, average reward =  -0.157\n",
      "Episode =  116, episode reward =   2.639, average reward =   0.091\n",
      "Episode =  117, episode reward =  -7.785, average reward =  -0.288\n",
      "Episode =  118, episode reward =  -8.755, average reward =  -0.324\n",
      "Episode =  119, episode reward =  -9.769, average reward =  -0.362\n",
      "Episode =  120, episode reward = -10.927, average reward =  -0.420\n",
      "Episode =  121, episode reward = -15.304, average reward =  -0.589\n",
      "Episode =  122, episode reward =  -7.452, average reward =  -0.257\n",
      "Episode =  123, episode reward =  -4.998, average reward =  -0.179\n"
     ]
    },
    {
     "name": "stdout",
     "output_type": "stream",
     "text": [
      "Episode =  124, episode reward =  -4.078, average reward =  -0.141\n",
      "Episode =  125, episode reward = -15.500, average reward =  -0.596\n",
      "Episode =  126, episode reward = -13.500, average reward =  -0.519\n",
      "Episode =  127, episode reward =  -3.813, average reward =  -0.131\n",
      "Episode =  128, episode reward = -14.393, average reward =  -0.533\n",
      "Episode =  129, episode reward = -13.375, average reward =  -0.514\n",
      "Episode =  130, episode reward = -14.735, average reward =  -0.567\n",
      "Episode =  131, episode reward = -12.443, average reward =  -0.479\n",
      "Episode =  132, episode reward =  -8.548, average reward =  -0.317\n",
      "Episode =  133, episode reward = -10.585, average reward =  -0.392\n",
      "Episode =  134, episode reward =  -8.545, average reward =  -0.316\n",
      "Episode =  135, episode reward =  -9.923, average reward =  -0.368\n",
      "Episode =  136, episode reward =  -8.846, average reward =  -0.340\n",
      "Episode =  137, episode reward = -10.302, average reward =  -0.396\n",
      "Episode =  138, episode reward = -11.054, average reward =  -0.425\n",
      "Episode =  139, episode reward = -10.775, average reward =  -0.414\n",
      "Episode =  140, episode reward = -10.623, average reward =  -0.409\n",
      "Episode =  141, episode reward =  -6.281, average reward =  -0.242\n",
      "Episode =  142, episode reward =  -3.089, average reward =  -0.114\n",
      "Episode =  143, episode reward =  -3.654, average reward =  -0.141\n",
      "Episode =  144, episode reward =  -4.725, average reward =  -0.175\n",
      "Episode =  145, episode reward =  -6.672, average reward =  -0.247\n",
      "Episode =  146, episode reward =  -6.951, average reward =  -0.257\n",
      "Episode =  147, episode reward =  -3.456, average reward =  -0.123\n",
      "Episode =  148, episode reward =  18.066, average reward =   0.645\n",
      "Episode =  149, episode reward =  14.905, average reward =   0.596\n",
      "Episode =  150, episode reward =   9.379, average reward =   0.361\n",
      "Episode =  151, episode reward =  16.630, average reward =   0.640\n",
      "Episode =  152, episode reward =   5.018, average reward =   0.186\n",
      "Episode =  153, episode reward =  15.424, average reward =   0.571\n",
      "Episode =  154, episode reward =   2.993, average reward =   0.107\n",
      "Episode =  155, episode reward =   4.892, average reward =   0.188\n",
      "Episode =  156, episode reward =   6.794, average reward =   0.252\n",
      "Episode =  157, episode reward =  -0.820, average reward =  -0.029\n",
      "Episode =  158, episode reward =   1.497, average reward =   0.055\n",
      "Episode =  159, episode reward =   2.214, average reward =   0.082\n",
      "Episode =  160, episode reward =   8.513, average reward =   0.315\n",
      "Episode =  161, episode reward =   5.594, average reward =   0.200\n",
      "Episode =  162, episode reward =  14.696, average reward =   0.588\n",
      "Episode =  163, episode reward =   7.699, average reward =   0.296\n",
      "Episode =  164, episode reward =  12.193, average reward =   0.452\n",
      "Episode =  165, episode reward =   4.725, average reward =   0.169\n",
      "Episode =  166, episode reward =  12.218, average reward =   0.421\n",
      "Episode =  167, episode reward =  -2.946, average reward =  -0.113\n",
      "Episode =  168, episode reward =  -2.862, average reward =  -0.110\n",
      "Episode =  169, episode reward =  -5.221, average reward =  -0.186\n",
      "Episode =  170, episode reward =  -4.304, average reward =  -0.148\n",
      "Episode =  171, episode reward =  -2.972, average reward =  -0.106\n",
      "Episode =  172, episode reward =  -2.208, average reward =  -0.082\n",
      "Episode =  173, episode reward =   8.219, average reward =   0.304\n",
      "Episode =  174, episode reward =   6.095, average reward =   0.218\n",
      "Episode =  175, episode reward =  11.832, average reward =   0.438\n",
      "Episode =  176, episode reward =   1.694, average reward =   0.063\n",
      "Episode =  177, episode reward =  -5.420, average reward =  -0.201\n",
      "Episode =  178, episode reward =  -5.811, average reward =  -0.215\n",
      "Episode =  179, episode reward =  -4.839, average reward =  -0.179\n",
      "Episode =  180, episode reward =   0.176, average reward =   0.007\n",
      "Episode =  181, episode reward =   9.554, average reward =   0.367\n",
      "Episode =  182, episode reward =  16.359, average reward =   0.629\n",
      "Episode =  183, episode reward =  16.973, average reward =   0.653\n",
      "Episode =  184, episode reward =   6.882, average reward =   0.265\n",
      "Episode =  185, episode reward =  -1.905, average reward =  -0.071\n",
      "Episode =  186, episode reward =  -4.434, average reward =  -0.164\n",
      "Episode =  187, episode reward =  -6.378, average reward =  -0.236\n",
      "Episode =  188, episode reward =  -7.000, average reward =  -0.259\n",
      "Episode =  189, episode reward =  -5.620, average reward =  -0.208\n",
      "Episode =  190, episode reward =  -9.167, average reward =  -0.327\n",
      "Episode =  191, episode reward =  -9.242, average reward =  -0.330\n",
      "Episode =  192, episode reward =  -9.103, average reward =  -0.325\n",
      "Episode =  193, episode reward =  -9.148, average reward =  -0.327\n",
      "Episode =  194, episode reward =  -9.128, average reward =  -0.326\n",
      "Episode =  195, episode reward =  -8.947, average reward =  -0.320\n",
      "Episode =  196, episode reward =  -9.220, average reward =  -0.329\n",
      "Episode =  197, episode reward =  -5.651, average reward =  -0.209\n",
      "Episode =  198, episode reward =  -5.450, average reward =  -0.202\n",
      "Episode =  199, episode reward =  -5.045, average reward =  -0.187\n",
      "Episode =  200, episode reward =  -5.554, average reward =  -0.206\n"
     ]
    }
   ],
   "source": [
    "## TODO: Train your agent here.\n",
    "from agents.agent import QuadAgent\n",
    "from task import Task\n",
    "import csv\n",
    "import numpy as np\n",
    "import matplotlib as plt\n",
    "import sys\n",
    "import pandas as pd\n",
    "\n",
    "# initialize parameters\n",
    "runtime = 5.                                     # time limit of the episode\n",
    "init_pose = np.array([0.5, 0.5, 10.5, 0.5, 0.5, 0.5])  # initial pose\n",
    "init_velocities = np.array([1., 1., 1.])         # initial velocities\n",
    "init_angle_velocities = np.array([1., 1., 1.])   # initial angle velocities\n",
    "hover_pos = np.array([0., 0., 15.])               # target hover position\n",
    "#hover_angle = np.array([0., 1., 0.])             # target hover angle\n",
    "file_output = 'data.txt'                         # file name for saved results\n",
    "\n",
    "# train the agent\n",
    "num_episodes = 200 #set number of episodes\n",
    "task = Task(init_pose, init_velocities, init_angle_velocities, runtime, hover_pos)\n",
    "quad_agent = QuadAgent(task)\n",
    "reward_over_episodes = []\n",
    "\n",
    "for i_episode in range(1, num_episodes+1):\n",
    "    state = quad_agent.reset_episode() # start a new episode and reset environment\n",
    "    episode_reward = 0\n",
    "    while True: # while time < runtime\n",
    "        action = quad_agent.act(state) # pick action based on state\n",
    "        next_state, reward, done = task.step(action) # take chosen action (record next state and reward)\n",
    "        quad_agent.step(action, reward, next_state, done) # agent saves experience and reward\n",
    "        state = next_state # set next_state to current state\n",
    "        if done: # if end of episode\n",
    "            print(\"\\rEpisode = {:4d}, episode reward = {:7.3f}, average reward = {:7.3f}\".format(\n",
    "                i_episode, quad_agent.score()[0], quad_agent.score()[1], end=\"\"))  # [debug]\n",
    "            reward_over_episodes.append(quad_agent.episode_reward)\n",
    "            break\n",
    "    sys.stdout.flush()"
   ]
  },
  {
   "cell_type": "markdown",
   "metadata": {
    "collapsed": true
   },
   "source": [
    "## Plot the Rewards\n",
    "\n",
    "Once you are satisfied with your performance, plot the episode rewards, either from a single run, or averaged over multiple runs. "
   ]
  },
  {
   "cell_type": "code",
   "execution_count": 2,
   "metadata": {
    "scrolled": true
   },
   "outputs": [],
   "source": [
    "# log rewards to file\n",
    "labels = ['time', 'x', 'y', 'z', 'phi', 'theta', 'psi', 'x_velocity',\n",
    "          'y_velocity', 'z_velocity', 'phi_velocity', 'theta_velocity',\n",
    "          'psi_velocity', 'rotor_speed1', 'rotor_speed2', 'rotor_speed3', 'rotor_speed4']\n",
    "results = {x : [] for x in labels} # initialize each state in labels to []\n",
    "\n",
    "with open(file_output, 'w') as csvfile:\n",
    "    writer = csv.writer(csvfile)\n",
    "    writer.writerow(labels)\n",
    "    count = 0\n",
    "    state = quad_agent.reset_episode()\n",
    "    while True:\n",
    "        count += 1\n",
    "        state = np.concatenate([task.sim.pose] * task.action_repeat)\n",
    "        rotor_speeds = quad_agent.act(state)\n",
    "        _, _, done = task.step(rotor_speeds)\n",
    "        to_write = [task.sim.time] + list(task.sim.pose) + list(task.sim.v) + list(task.sim.angular_v) + list(rotor_speeds)\n",
    "        for ii in range(len(labels)):\n",
    "            results[labels[ii]].append(to_write[ii])\n",
    "        writer.writerow(to_write)\n",
    "        if done:\n",
    "            break"
   ]
  },
  {
   "cell_type": "code",
   "execution_count": 6,
   "metadata": {},
   "outputs": [
    {
     "data": {
      "image/png": "[encoded data removed]",
      "text/plain": [
       "<matplotlib.figure.Figure at 0x7f1984a9b898>"
      ]
     },
     "metadata": {
      "needs_background": "light"
     },
     "output_type": "display_data"
    }
   ],
   "source": [
    "## Plot the rotor speeds.\n",
    "import matplotlib.pyplot as plt\n",
    "plt.plot(results['time'], results['rotor_speed1'], label='Rotor 1 revolutions / second')\n",
    "plt.plot(results['time'], results['rotor_speed2'], label='Rotor 2 revolutions / second')\n",
    "plt.plot(results['time'], results['rotor_speed3'], label='Rotor 3 revolutions / second')\n",
    "plt.plot(results['time'], results['rotor_speed4'], label='Rotor 4 revolutions / second')\n",
    "plt.legend()\n",
    "_ = plt.ylim()"
   ]
  },
  {
   "cell_type": "code",
   "execution_count": 4,
   "metadata": {},
   "outputs": [
    {
     "data": {
      "image/png": "[encoded data removed]",
      "text/plain": [
       "<matplotlib.figure.Figure at 0x7f198c577438>"
      ]
     },
     "metadata": {
      "needs_background": "light"
     },
     "output_type": "display_data"
    }
   ],
   "source": [
    "# plot (x,y,z) position\n",
    "plt.plot(results['time'], results['x'], label='x')\n",
    "plt.plot(results['time'], results['y'], label='y')\n",
    "plt.plot(results['time'], results['z'], label='z')\n",
    "plt.legend()\n",
    "_ = plt.ylim()"
   ]
  },
  {
   "cell_type": "code",
   "execution_count": 7,
   "metadata": {
    "scrolled": true
   },
   "outputs": [
    {
     "data": {
      "text/plain": [
       "[<matplotlib.lines.Line2D at 0x7f1984970c50>]"
      ]
     },
     "execution_count": 7,
     "metadata": {},
     "output_type": "execute_result"
    },
    {
     "data": {
      "image/png": "[encoded data removed]",
      "text/plain": [
       "<matplotlib.figure.Figure at 0x7f198c55ebe0>"
      ]
     },
     "metadata": {
      "needs_background": "light"
     },
     "output_type": "display_data"
    }
   ],
   "source": [
    "## TODO: Plot the rewards.\n",
    "import matplotlib.pyplot as plt\n",
    "% matplotlib inline\n",
    "plt.plot(reward_over_episodes, label='reward over time')"
   ]
  },
  {
   "cell_type": "markdown",
   "metadata": {
    "collapsed": true
   },
   "source": [
    "## Reflections\n",
    "\n",
    "**Question 1**: Describe the task that you specified in `task.py`.  How did you design the reward function?\n",
    "\n",
    "**Answer**:\n",
    "\n",
    "The task is to hover at a specified position (x,y,z) in a specified orientation ($\\theta_x, \\theta_y, \\theta_z$). These are my attempts at designing the reward function:\n",
    "\n",
    "1) Penalize for any differences between current position/orientation/velocity and targets.\n",
    "`reward = 1.-.3*(abs(self.sim.pose[:3] - self.hover_pos)).sum() -.3*(abs(self.sim.v - self.hover_pos_v)).sum() - .3*(abs(self.sim.pose[3:] - self.hover_angle)).sum() -.3*(abs(self.sim.angular_v)).sum()`\n",
    "\n",
    "2) Add a large positive reward by default.\n",
    "`reward = 10.-.3*(abs(self.sim.pose[:3] - self.hover_pos)).sum() -.3*(abs(self.sim.v - self.hover_pos_v)).sum() - .3*(abs(self.sim.pose[3:] - self.hover_angle)).sum() -.3*(abs(self.sim.angular_v)).sum()`\n",
    "\n",
    "Not having much luck, I decided to simplify the task to hovering at specified position (x,y,z) at any orientation.\n",
    "\n",
    "3) Removed the part of the original reward function where the current and desired orientations are compared. \n",
    "`10000.0 -3*(abs(self.sim.pose[:3] - self.hover_pos)).sum() -3*(abs(self.sim.v - self.hover_pos_v)).sum() -3*(abs(self.sim.angular_v)).sum()`\n",
    "\n",
    "I then simplified the reward function further to just penalize the agent based on distance away from the hover position.\n",
    "\n",
    "4) `reward = 10000.0 -3*(abs(self.sim.pose[:3] - self.hover_pos)).sum()`\n",
    "\n",
    "Seeing that the quadcopter kept crashing, I decided the reward function should consider the velocity of the quadcopter.\n",
    "\n",
    "5) `penalty = abs(abs(current_pos - self.target_pos).sum() - abs(self.sim.v).sum())`\n",
    "\n",
    "Since the reward function has only been penalizing for 'wrong' behavior, I decided to reward the agent for proper behavior such that if the quadcopter comes within a certain specified threshold of the hover position (in the z direction), it will receive a huge positive reward. I also applied a tanh function to the reward before returning it.\n",
    "\n",
    "6)      `reward = 0\n",
    "        threshold = 6\n",
    "        if abs(self.sim.pose[2] - self.hover_pos[2]) < threshold:\n",
    "            reward += 100\n",
    "        else:\n",
    "            penalty = abs(abs(self.sim.pose[:3] - self.hover_pos).sum() - abs(self.sim.v).sum())\n",
    "            reward -= penalty\n",
    "        return np.tanh(reward)`"
   ]
  },
  {
   "cell_type": "markdown",
   "metadata": {},
   "source": [
    "**Question 2**: Discuss your agent briefly, using the following questions as a guide:\n",
    "\n",
    "- What learning algorithm(s) did you try? What worked best for you?\n",
    "- What was your final choice of hyperparameters (such as $\\alpha$, $\\gamma$, $\\epsilon$, etc.)?\n",
    "- What neural network architecture did you use (if any)? Specify layers, sizes, activation functions, etc.\n",
    "\n",
    "**Answer**:\n",
    "I used a Deep Deterministic Policy Gradient (DDPG) agent which uses a variation of the Actor-Critic model. The actions and Q-values in the Actor and Critic models respectively are evaluated using neural network architectures. The **Actor** used the following architecture:\n",
    "\n",
    "Dense(32, activation='relu') --> \n",
    "\n",
    "Dense(64, activation='relu') with Batch Normalization -->\n",
    "\n",
    "Dense(32, activation='relu') -->\n",
    "\n",
    "Dense(4, activation='sigmoid')\n",
    "\n",
    "The **Critic** uses the following architecture.\n",
    "\n",
    "The 'states' network is defined as: \n",
    "\n",
    "Dense(32, activation='relu') --> \n",
    "\n",
    "Dense(64, activation='relu') with Batch Normalization\n",
    "\n",
    "The 'actions' network is defined as: \n",
    "\n",
    "Dense(32, activation='relu') -->\n",
    "\n",
    "Dense(64, activation='relu')\n",
    "\n",
    "The states and actions networks are then merged and a 'relu' activation is applied to the output.\n",
    "\n",
    "Dense(1) layer is then added to output the Q-value.\n",
    "\n",
    "I set the hyperparameters as the following: \n",
    "\n",
    "|Hyperparameter|Value|\n",
    "|-------|---|\n",
    "|$\\gamma$|0.99|\n",
    "|$\\tau$|0.05|\n",
    "|$\\sigma$|0.2|\n",
    "|$\\mu$|0.2|\n",
    "|$\\theta$|0.15|"
   ]
  },
  {
   "cell_type": "markdown",
   "metadata": {},
   "source": [
    "**Question 3**: Using the episode rewards plot, discuss how the agent learned over time.\n",
    "\n",
    "- Was it an easy task to learn or hard?\n",
    "- Was there a gradual learning curve, or an aha moment?\n",
    "- How good was the final performance of the agent? (e.g. mean rewards over the last 10 episodes)\n",
    "\n",
    "**Answer**:\n",
    "It was quite a hard task for the agent to learn and I'm still trying to make the agent learn the task by revisiting the reward function and the hyperparameters. There were a few aha moments, but even then there was quite a bit of trial and error involved.\n",
    "\n",
    "The final performance of the agent was a reward of about 40 per episode for the last 10 episodes. One interesting phenomenon that I observed is that changing the reward function primarily changes the (x,y) trajectories but not the z trajectory. No matter what the reward function is, the quadcopter seems to crash after just less than 2 seconds.  "
   ]
  },
  {
   "cell_type": "markdown",
   "metadata": {},
   "source": [
    "**Question 4**: Briefly summarize your experience working on this project. You can use the following prompts for ideas.\n",
    "\n",
    "- What was the hardest part of the project? (e.g. getting started, plotting, specifying the task, etc.)\n",
    "- Did you find anything interesting in how the quadcopter or your agent behaved?\n",
    "\n",
    "**Answer**:\n",
    "Getting started was quite overwhelming as I needed to thorougly review and understand the code that was provided to us. Once I understood the code, defining a relevant reward function was the next challenge."
   ]
  }
 ],
 "metadata": {
  "anaconda-cloud": {},
  "kernelspec": {
   "display_name": "Python 3",
   "language": "python",
   "name": "python3"
  },
  "language_info": {
   "codemirror_mode": {
    "name": "ipython",
    "version": 3
   },
   "file_extension": ".py",
   "mimetype": "text/x-python",
   "name": "python",
   "nbconvert_exporter": "python",
   "pygments_lexer": "ipython3",
   "version": "3.6.3"
  }
 },
 "nbformat": 4,
 "nbformat_minor": 2
}
